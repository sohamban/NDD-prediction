{
 "cells": [
  {
   "cell_type": "code",
   "execution_count": null,
   "id": "d7cdbd4c",
   "metadata": {},
   "outputs": [],
   "source": [
    "import os\n",
    "import shutil"
   ]
  },
  {
   "cell_type": "markdown",
   "id": "451fb0bb",
   "metadata": {},
   "source": [
    "# Read directory where fMRI files are saved"
   ]
  },
  {
   "cell_type": "code",
   "execution_count": null,
   "id": "ea6f5436",
   "metadata": {},
   "outputs": [],
   "source": [
    "\n",
    "count=0\n",
    "# Set the path to the directory containing the parent folders\n",
    "parent_folder = \"E:/ADHD200/\"\n",
    "folder_name=\"rest_1\"\n",
    "\n",
    "# Loop through all the parent folders within the directory\n",
    "for subfolder in os.listdir(parent_folder):\n",
    "    #print(subfolder)\n",
    "    #count +=1\n",
    "    subfolder_path = os.path.join(parent_folder,subfolder)\n",
    "   # print(subfolder_path)\n",
    "    # Loop through all the subfolders within the parent folder\n",
    "    if folder_name not in os.listdir(subfolder_path):\n",
    "        print(subfolder_path)\n",
    "    \n",
    "#     for sub_subfolder in os.listdir(subfolder_path):\n",
    "#         # Get the full path of the subfolder\n",
    "#         sub_subfolder_path = os.path.join(subfolder_path, sub_subfolder)\n",
    "        #print(\"1st level\",sub_subfolder_path)\n",
    "        \n",
    "        # Loop through all the contents of the subfolder\n",
    "       # for subfolder_contents in os.listdir(sub_subfolder_path):\n",
    "            # Get the full path of the contents of the subfolder\n",
    "        #    sub_subfolder_contents_path = os.path.join(sub_subfolder_path, subfolder_contents)\n",
    "           # print(\"2nd level\",sub_subfolder_contents_path)\n",
    "            \n",
    "            # Move the contents of the subfolder to the parent folder\n",
    "         #   shutil.move(sub_subfolder_contents_path, subfolder_path )\n",
    "        \n",
    "        # Remove the empty subfolder\n",
    "        #os.rmdir(sub_subfolder_path)\n",
    "print(\"number of data samples is \",count)"
   ]
  },
  {
   "cell_type": "markdown",
   "id": "7c75a3ba",
   "metadata": {},
   "source": [
    "# fetch all fMRI file names only"
   ]
  },
  {
   "cell_type": "code",
   "execution_count": null,
   "id": "fb4c8fb4",
   "metadata": {},
   "outputs": [],
   "source": [
    "import os\n",
    "\n",
    "# Set the path to the directory you want to traverse\n",
    "directory_path = \"E:/ADHD200/\"\n",
    "\n",
    "# Get a sorted list of all the directories in the directory\n",
    "directories = sorted([f for f in os.listdir(directory_path) if os.path.isdir(os.path.join(directory_path, f))])\n",
    "# Loop through all the directories in lexicographical order\n",
    "for directory_name in directories:\n",
    "\n",
    "    print(directory_name)"
   ]
  },
  {
   "cell_type": "code",
   "execution_count": null,
   "id": "90d4dc04",
   "metadata": {},
   "outputs": [],
   "source": [
    "import pandas as pd\n",
    "\n",
    "# Read the CSV file into a pandas DataFrame\n",
    "df = pd.read_csv(\"E:/ADHD200/metadata.csv\")\n",
    "\n",
    "# Sort the DataFrame by a column\n",
    "sorted_df = df.sort_values(\"Subject\")\n",
    "\n",
    "# Print the sorted DataFrame\n",
    "print(sorted_df)"
   ]
  },
  {
   "cell_type": "code",
   "execution_count": null,
   "id": "5f395ab0",
   "metadata": {},
   "outputs": [],
   "source": [
    "df = sorted_df.dropna(subset=['Group'])"
   ]
  },
  {
   "cell_type": "code",
   "execution_count": null,
   "id": "f978b935",
   "metadata": {},
   "outputs": [],
   "source": [
    "df['Label'] = df['Group'].apply(lambda x: 0 if x == 'Typically Developing' else 1)"
   ]
  },
  {
   "cell_type": "code",
   "execution_count": null,
   "id": "8c4eb4c9",
   "metadata": {},
   "outputs": [],
   "source": [
    "df.to_csv('E:/ADHD200/dataset_with_label.csv', index=False)"
   ]
  },
  {
   "cell_type": "markdown",
   "id": "66b63c31",
   "metadata": {},
   "source": [
    "# Fetch all fMRI file with entire path"
   ]
  },
  {
   "cell_type": "code",
   "execution_count": null,
   "id": "631c2c66",
   "metadata": {},
   "outputs": [],
   "source": [
    "parent_path = \"E:/ADHD200/\"\n",
    "relative_file = \"rest_1/NIfTI/rest.nii.gz\"\n",
    "count=0\n",
    "path_list = []\n",
    "for directory_name in directories:\n",
    "    # Get the full path of the directory\n",
    "    directory_path = os.path.join(parent_path, directory_name)\n",
    "    bolt_signal = os.path.join(directory_path,relative_file)\n",
    "    print(bolt_signal)\n",
    "    path_list.append(bolt_signal)\n",
    "    \n",
    "len(directories)"
   ]
  },
  {
   "cell_type": "code",
   "execution_count": null,
   "id": "384adcdc",
   "metadata": {},
   "outputs": [],
   "source": [
    "df.drop('path',axis=1)"
   ]
  },
  {
   "cell_type": "code",
   "execution_count": null,
   "id": "1583fb37",
   "metadata": {},
   "outputs": [],
   "source": [
    "df_path = pd.DataFrame({'path': path_list})\n",
    "df_path"
   ]
  },
  {
   "cell_type": "code",
   "execution_count": null,
   "id": "96541a02",
   "metadata": {},
   "outputs": [],
   "source": [
    "labels = df[\"Label\"].tolist()\n",
    "labels"
   ]
  },
  {
   "cell_type": "markdown",
   "id": "1123ba0a",
   "metadata": {},
   "source": [
    "# Save file path with details in csv file"
   ]
  },
  {
   "cell_type": "code",
   "execution_count": null,
   "id": "2436ff1b",
   "metadata": {},
   "outputs": [],
   "source": [
    "df_path.to_csv('E:/ADHD200/path_with_label.csv', index=False)\n",
    "df_path.value_counts('Label')"
   ]
  }
 ],
 "metadata": {
  "kernelspec": {
   "display_name": "Python 3 (ipykernel)",
   "language": "python",
   "name": "python3"
  },
  "language_info": {
   "codemirror_mode": {
    "name": "ipython",
    "version": 3
   },
   "file_extension": ".py",
   "mimetype": "text/x-python",
   "name": "python",
   "nbconvert_exporter": "python",
   "pygments_lexer": "ipython3",
   "version": "3.9.13"
  }
 },
 "nbformat": 4,
 "nbformat_minor": 5
}
